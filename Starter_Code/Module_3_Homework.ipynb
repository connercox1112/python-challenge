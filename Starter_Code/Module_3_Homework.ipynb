{
 "cells": [
  {
   "cell_type": "code",
   "execution_count": 13,
   "id": "9c6cfb2f",
   "metadata": {},
   "outputs": [
    {
     "name": "stdout",
     "output_type": "stream",
     "text": [
      "Financial Analysis\n",
      "----------------------------\n",
      "Total Months: 86\n",
      "Total: $22564198\n",
      "Average Change: $262374.40\n",
      "Greatest Increase in Profits: Aug-16 ($1862002)\n",
      "Greatest Decrease in Profits: Feb-14 ($-1825558)\n",
      "Results have been exported to financial_analysis.txt\n"
     ]
    }
   ],
   "source": [
    "import csv\n",
    "\n",
    "# Step 1: Read the CSV file\n",
    "file_path = r\"PyBank\\Resources\\budget_data.csv\"\n",
    "\n",
    "# Initialize variables to store financial data\n",
    "total_months = 0\n",
    "total_profit_loss = 0\n",
    "profit_loss_changes = []\n",
    "dates = []\n",
    "\n",
    "# Read the CSV file\n",
    "with open(file_path, newline=\"\") as csvfile:\n",
    "    csvreader = csv.reader(csvfile, delimiter=\",\")\n",
    "\n",
    "    # Read the header row\n",
    "    csv_header = next(csvreader)\n",
    "\n",
    "    # Iterate over each row in the CSV file\n",
    "    for row in csvreader:\n",
    "        # Step 2: Calculate the total number of months\n",
    "        total_months += 1\n",
    "\n",
    "        # Step 3: Calculate the net total amount of \"Profit/Losses\"\n",
    "        total_profit_loss += int(row[1])\n",
    "\n",
    "        # Store dates and profit/loss values\n",
    "        dates.append(row[0])\n",
    "        profit_loss_changes.append(int(row[1]))\n",
    "\n",
    "# Step 4: Calculate the changes in \"Profit/Losses\" and the average of those changes\n",
    "average_change = sum(profit_loss_changes) / len(profit_loss_changes)\n",
    "\n",
    "# Initialize variables to store greatest increase and decrease in profits\n",
    "greatest_increase = 0\n",
    "greatest_decrease = 0\n",
    "\n",
    "# Iterate over profit/loss changes to find greatest increase and decrease\n",
    "for i in range(1, len(profit_loss_changes)):\n",
    "    change = profit_loss_changes[i] - profit_loss_changes[i - 1]\n",
    "\n",
    "    if change > greatest_increase:\n",
    "        greatest_increase = change\n",
    "        greatest_increase_date = dates[i]\n",
    "\n",
    "    if change < greatest_decrease:\n",
    "        greatest_decrease = change\n",
    "        greatest_decrease_date = dates[i]\n",
    "        \n",
    "# Step 5: Output the results\n",
    "print(\"Financial Analysis\")\n",
    "print(\"----------------------------\")\n",
    "print(f\"Total Months: {total_months}\")\n",
    "print(f\"Total: ${total_profit_loss}\")\n",
    "print(f\"Average Change: ${average_change:.2f}\")\n",
    "print(f\"Greatest Increase in Profits: {greatest_increase_date} (${greatest_increase})\")\n",
    "print(f\"Greatest Decrease in Profits: {greatest_decrease_date} (${greatest_decrease})\")\n",
    "\n",
    "# Step 6: Output the results to a text file\n",
    "output_file_path = \"financial_analysis.txt\"\n",
    "with open(output_file_path, \"w\") as txt_file:\n",
    "    txt_file.write(\"Financial Analysis\\n\")\n",
    "    txt_file.write(\"----------------------------\\n\")\n",
    "    txt_file.write(f\"Total Months: {total_months}\\n\")\n",
    "    txt_file.write(f\"Total: ${total_profit_loss}\\n\")\n",
    "    txt_file.write(f\"Average Change: ${average_change:.2f}\\n\")\n",
    "    txt_file.write(f\"Greatest Increase in Profits: {greatest_increase_date} (${greatest_increase})\\n\")\n",
    "    txt_file.write(f\"Greatest Decrease in Profits: {greatest_decrease_date} (${greatest_decrease})\\n\")\n",
    "\n",
    "# Print confirmation message\n",
    "print(\"Results have been exported to financial_analysis.txt\")"
   ]
  },
  {
   "cell_type": "code",
   "execution_count": null,
   "id": "4db0769e",
   "metadata": {},
   "outputs": [],
   "source": []
  }
 ],
 "metadata": {
  "kernelspec": {
   "display_name": "Python 3 (ipykernel)",
   "language": "python",
   "name": "python3"
  },
  "language_info": {
   "codemirror_mode": {
    "name": "ipython",
    "version": 3
   },
   "file_extension": ".py",
   "mimetype": "text/x-python",
   "name": "python",
   "nbconvert_exporter": "python",
   "pygments_lexer": "ipython3",
   "version": "3.11.5"
  }
 },
 "nbformat": 4,
 "nbformat_minor": 5
}
